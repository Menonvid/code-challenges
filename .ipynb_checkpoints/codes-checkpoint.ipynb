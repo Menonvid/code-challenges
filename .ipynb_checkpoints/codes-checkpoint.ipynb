{
 "cells": [
  {
   "cell_type": "markdown",
   "metadata": {
    "toc": true
   },
   "source": [
    "<h1>Table of Contents<span class=\"tocSkip\"></span></h1>\n",
    "<div class=\"toc\"><ul class=\"toc-item\"><li><span><a href=\"#Code-Challenges\" data-toc-modified-id=\"Code-Challenges-1\"><span class=\"toc-item-num\">1&nbsp;&nbsp;</span>Code Challenges</a></span></li></ul></div>"
   ]
  },
  {
   "cell_type": "markdown",
   "metadata": {},
   "source": [
    "## Code Challenges"
   ]
  },
  {
   "cell_type": "code",
   "execution_count": 15,
   "metadata": {},
   "outputs": [],
   "source": [
    "import numpy as np\n",
    "import pandas as pd\n",
    "import math"
   ]
  },
  {
   "cell_type": "code",
   "execution_count": 16,
   "metadata": {},
   "outputs": [],
   "source": [
    "# To check if a number is square root or not\n",
    "\n",
    "def is_square(n):\n",
    "    if n < 0:\n",
    "        return False\n",
    "    sqrt = math.sqrt(n)\n",
    "    return(sqrt-int(sqrt)) == 0"
   ]
  },
  {
   "cell_type": "code",
   "execution_count": 61,
   "metadata": {},
   "outputs": [
    {
     "data": {
      "text/plain": [
       "False"
      ]
     },
     "execution_count": 61,
     "metadata": {},
     "output_type": "execute_result"
    }
   ],
   "source": [
    "is_square(224)"
   ]
  },
  {
   "cell_type": "code",
   "execution_count": 167,
   "metadata": {},
   "outputs": [],
   "source": [
    "# Count number of vowels\n",
    "\n",
    "def get_count(input_str):\n",
    "    num_vowels = 0\n",
    "    vowels = {'a','e','i','o','u'}\n",
    "    for alpha in input_str:\n",
    "        if alpha in vowels:\n",
    "            num_vowels = num_vowels + 1\n",
    "    print(\"Number of vowels: \", num_vowels)\n",
    " #   return num_vowels"
   ]
  },
  {
   "cell_type": "code",
   "execution_count": 169,
   "metadata": {},
   "outputs": [
    {
     "name": "stdout",
     "output_type": "stream",
     "text": [
      "Number of vowels:  11\n"
     ]
    }
   ],
   "source": [
    "get_count('data science machine learning')"
   ]
  },
  {
   "cell_type": "code",
   "execution_count": 9,
   "metadata": {},
   "outputs": [
    {
     "name": "stdout",
     "output_type": "stream",
     "text": [
      "9\n"
     ]
    }
   ],
   "source": [
    "# Find sum of smallest pair in an Array\n",
    "\n",
    "def sum_two_smallest_numbers(numbers):\n",
    "  \n",
    "  smallest = min(numbers)\n",
    "  \n",
    "  slicedNumbers = numbers[:]\n",
    "  slicedNumbers.remove(smallest)\n",
    "  small = min(slicedNumbers)\n",
    "  \n",
    "  return smallest + small\n",
    "\n",
    "print(sum_two_smallest_numbers([19, 5, 42, 4, 77]))"
   ]
  },
  {
   "cell_type": "code",
   "execution_count": 6,
   "metadata": {},
   "outputs": [
    {
     "name": "stdout",
     "output_type": "stream",
     "text": [
      "8\n"
     ]
    }
   ],
   "source": [
    "def sum_two_smallest_numbers(numbers):\n",
    "    return sum(sorted(numbers)[:2])\n",
    "print(sum_two_smallest_numbers([19, 5, 42, 3, 77]))"
   ]
  },
  {
   "cell_type": "code",
   "execution_count": 7,
   "metadata": {},
   "outputs": [],
   "source": [
    "#  Find the sum of all the numbers between including them too and return it\n",
    "\n",
    "from functools import reduce\n",
    "def get_sum(a,b):\n",
    "    if a != b:\n",
    "        return reduce(lambda x,y: x+y, list(range(a,b+1)))\n",
    "    else:\n",
    "        return a"
   ]
  },
  {
   "cell_type": "code",
   "execution_count": 8,
   "metadata": {},
   "outputs": [
    {
     "data": {
      "text/plain": [
       "26"
      ]
     },
     "execution_count": 8,
     "metadata": {},
     "output_type": "execute_result"
    }
   ],
   "source": [
    "get_sum(5,8)"
   ]
  },
  {
   "cell_type": "code",
   "execution_count": 9,
   "metadata": {},
   "outputs": [],
   "source": [
    "def get_sum(a,b):\n",
    "    if a <= b:\n",
    "        result = sum(range(a,b+1))\n",
    "    elif a >= b:\n",
    "        result =  sum(range(b,a+1))\n",
    "#     else:\n",
    "#         return a\n",
    "    return result"
   ]
  },
  {
   "cell_type": "code",
   "execution_count": 10,
   "metadata": {},
   "outputs": [
    {
     "data": {
      "text/plain": [
       "8"
      ]
     },
     "execution_count": 10,
     "metadata": {},
     "output_type": "execute_result"
    }
   ],
   "source": [
    "get_sum(8,8)"
   ]
  },
  {
   "cell_type": "code",
   "execution_count": 11,
   "metadata": {},
   "outputs": [],
   "source": [
    "#sum(range(9,10))"
   ]
  },
  {
   "cell_type": "code",
   "execution_count": 12,
   "metadata": {},
   "outputs": [],
   "source": [
    "# Find an index N where the sum of the integers to the left of N is equal to the sum of the integers to the right of N. \n",
    "# If there is no index that would make this happen, return -1.\n",
    "def find_even_index(arr):\n",
    "    #your code here\n",
    "    \n",
    "    for i in range(len(arr)):\n",
    "        if sum(arr[0:i]) == sum(arr[i+1:len(arr)+1]):\n",
    "            return i      \n",
    "    return -1"
   ]
  },
  {
   "cell_type": "code",
   "execution_count": 13,
   "metadata": {},
   "outputs": [],
   "source": [
    "def find_even_index(arr):\n",
    "    for i in range(len(arr)):\n",
    "        if sum(arr[0:i]) == sum(arr[len(arr):i:-1]):\n",
    "            return i\n",
    "    return -1"
   ]
  },
  {
   "cell_type": "code",
   "execution_count": 14,
   "metadata": {},
   "outputs": [
    {
     "data": {
      "text/plain": [
       "3"
      ]
     },
     "execution_count": 14,
     "metadata": {},
     "output_type": "execute_result"
    }
   ],
   "source": [
    "find_even_index([1,2,3,4,3,2,1])"
   ]
  },
  {
   "cell_type": "code",
   "execution_count": 15,
   "metadata": {},
   "outputs": [],
   "source": [
    "# Implement a function that adds two numbers together and returns their sum in binary. The conversion can be done before, or after the addition."
   ]
  },
  {
   "cell_type": "code",
   "execution_count": 16,
   "metadata": {},
   "outputs": [],
   "source": [
    "# Write a function, persistence, that takes in a positive parameter num and returns its multiplicative persistence, which is\n",
    "# the number of times you must multiply the digits in num until you reach a single digit.\n",
    "\n",
    "def persistence(n):\n",
    "    # your code\n",
    "    first = int(n / 10)\n",
    "    second = n % 10\n",
    "    result = first * second\n",
    "    return result"
   ]
  },
  {
   "cell_type": "code",
   "execution_count": 17,
   "metadata": {},
   "outputs": [
    {
     "data": {
      "text/plain": [
       "10"
      ]
     },
     "execution_count": 17,
     "metadata": {},
     "output_type": "execute_result"
    }
   ],
   "source": [
    "persistence(25)"
   ]
  },
  {
   "cell_type": "code",
   "execution_count": 72,
   "metadata": {},
   "outputs": [],
   "source": [
    "from functools import reduce\n",
    "def persistence(n):\n",
    "    pers = 1 if n >= 10 else 0\n",
    "    mult = int(reduce(lambda x,y:int(x)*int(y), list(str(n))))\n",
    "    while mult > 1 and len(str(mult)) > 1:\n",
    "        mult = int(reduce(lambda x,y:int(x)*int(y), list(str(mult))))\n",
    "        pers += 1\n",
    "    return pers"
   ]
  },
  {
   "cell_type": "code",
   "execution_count": 77,
   "metadata": {},
   "outputs": [
    {
     "data": {
      "text/plain": [
       "4"
      ]
     },
     "execution_count": 77,
     "metadata": {},
     "output_type": "execute_result"
    }
   ],
   "source": [
    "persistence(999)"
   ]
  },
  {
   "cell_type": "code",
   "execution_count": 75,
   "metadata": {},
   "outputs": [],
   "source": [
    "def persistence(n):\n",
    "    n = str(n)\n",
    "    count = 0\n",
    "    while len(n) > 1:\n",
    "        p = 1\n",
    "        for i in n:\n",
    "            p *= int(i)\n",
    "        n = str(p)\n",
    "        count += 1\n",
    "    return count"
   ]
  },
  {
   "cell_type": "code",
   "execution_count": 82,
   "metadata": {},
   "outputs": [
    {
     "name": "stdout",
     "output_type": "stream",
     "text": [
      "Enter the number of terms 9\n",
      "Fibonacci sequence:\n",
      "0\n",
      "1\n",
      "1\n",
      "2\n",
      "3\n",
      "5\n",
      "8\n",
      "13\n",
      "21\n"
     ]
    }
   ],
   "source": [
    "# Fibonacci Series\n",
    "\n",
    "nterms = int(input(\"Enter the number of terms \"))\n",
    "\n",
    "# first two terms\n",
    "n1, n2 = 0, 1\n",
    "count = 0\n",
    "\n",
    "# check if the number of terms is valid\n",
    "if nterms <= 0:\n",
    "   print(\"Please enter a positive integer\")\n",
    "elif nterms == 1:\n",
    "   print(\"Fibonacci sequence upto\",nterms,\":\")\n",
    "   print(n1)\n",
    "else:\n",
    "   print(\"Fibonacci sequence:\")\n",
    "   while count < nterms:\n",
    "       print(n1)\n",
    "       nth = n1 + n2\n",
    "       # update values\n",
    "       n1 = n2\n",
    "       n2 = nth\n",
    "       count += 1"
   ]
  },
  {
   "cell_type": "code",
   "execution_count": 83,
   "metadata": {},
   "outputs": [
    {
     "name": "stdout",
     "output_type": "stream",
     "text": [
      "The sum is 48\n"
     ]
    }
   ],
   "source": [
    "# Find the sum of all numbers stored in a list\n",
    "\n",
    "# List of numbers\n",
    "numbers = [6, 5, 3, 8, 4, 2, 5, 4, 11]\n",
    "\n",
    "# variable to store the sum\n",
    "sum = 0\n",
    "\n",
    "# iterate over the list\n",
    "for val in numbers:\n",
    "    sum = sum+val\n",
    "\n",
    "print(\"The sum is\", sum)"
   ]
  },
  {
   "cell_type": "code",
   "execution_count": 88,
   "metadata": {},
   "outputs": [],
   "source": [
    "# Factorial of a number\n",
    "\n",
    "def factorial_num(num):\n",
    "    fact = 1\n",
    "    if num < 0:\n",
    "        print(\"Enter positive number\")\n",
    "    elif num == 0:\n",
    "        print(\"Factorial of 0 is 1\")\n",
    "    else:\n",
    "        for i in range(1,num+1):\n",
    "            fact =  fact * i\n",
    "        print(\"Factorial of a number is : \", fact)    "
   ]
  },
  {
   "cell_type": "code",
   "execution_count": 93,
   "metadata": {},
   "outputs": [
    {
     "name": "stdout",
     "output_type": "stream",
     "text": [
      "Factorail of a number is :  120\n"
     ]
    }
   ],
   "source": [
    "factorial_num(5)"
   ]
  },
  {
   "cell_type": "code",
   "execution_count": 94,
   "metadata": {},
   "outputs": [],
   "source": [
    "# ATM machines allow 4 or 6 digit PIN codes and PIN codes cannot contain anything but exactly 4 digits or exactly 6 digits.\n",
    "# If the function is passed a valid PIN string, return true, else return false.\n",
    "\n",
    "import re\n",
    "def validate_pin(pin):\n",
    "    if re.fullmatch(\"\\d{4}|\\d{6}\", pin):\n",
    "        return True\n",
    "    else:\n",
    "        return False"
   ]
  },
  {
   "cell_type": "code",
   "execution_count": 96,
   "metadata": {},
   "outputs": [
    {
     "data": {
      "text/plain": [
       "True"
      ]
     },
     "execution_count": 96,
     "metadata": {},
     "output_type": "execute_result"
    }
   ],
   "source": [
    "validate_pin(\"1234\")"
   ]
  },
  {
   "cell_type": "code",
   "execution_count": 97,
   "metadata": {},
   "outputs": [],
   "source": [
    "# Function that takes an integer argument and returns logical value true or false depending on if the integer is a prime.\n",
    "def is_prime(num):\n",
    "     if (num<=1):\n",
    "        return False\n",
    "     elif (num==2):\n",
    "        return True\n",
    "     else:\n",
    "        for x in range(2,num):\n",
    "            if(num % x==0):\n",
    "                return False\n",
    "        return True "
   ]
  },
  {
   "cell_type": "code",
   "execution_count": 100,
   "metadata": {},
   "outputs": [
    {
     "data": {
      "text/plain": [
       "True"
      ]
     },
     "execution_count": 100,
     "metadata": {},
     "output_type": "execute_result"
    }
   ],
   "source": [
    "is_prime(5099)"
   ]
  },
  {
   "cell_type": "code",
   "execution_count": 101,
   "metadata": {},
   "outputs": [],
   "source": [
    "def is_prime(num):\n",
    "    if num > 1:\n",
    "        n = num // 2\n",
    "        for i in range(2, n + 1):\n",
    "            if num % i == 0:\n",
    "                return False\n",
    "        return True\n",
    "    else:\n",
    "        return False"
   ]
  },
  {
   "cell_type": "code",
   "execution_count": 102,
   "metadata": {},
   "outputs": [],
   "source": [
    "def is_prime(x):\n",
    "    prime = False\n",
    "    if x > 1:\n",
    "        prime = True\n",
    "        k = 2\n",
    "        n = sqrt(x) # to find square root of x \n",
    "        while k <= n and prime == True:\n",
    "            if x % k == 0:\n",
    "                prime = False\n",
    "            k += 1\n",
    "    return prime"
   ]
  },
  {
   "cell_type": "code",
   "execution_count": 19,
   "metadata": {},
   "outputs": [
    {
     "name": "stdout",
     "output_type": "stream",
     "text": [
      "x_list contains 10 objects\n",
      "y_list contains 10 objects\n",
      "big_list contains 20 objects\n",
      "Almost there...\n",
      "Great!\n"
     ]
    }
   ],
   "source": [
    "# The target of this exercise is to create two lists called x_list and y_list, which contain 10 instances of the variables x\n",
    "# and y, respectively. You are also required to create a list called big_list, which contains the variables x and y, 10 \n",
    "# times each, by concatenating the two lists you have created.\n",
    "\n",
    "x = object()\n",
    "y = object()\n",
    "\n",
    "x_list = ([x] * 10)\n",
    "y_list = ([y] * 10)\n",
    "big_list = x_list + y_list\n",
    "\n",
    "print(\"x_list contains %d objects\" % len(x_list))\n",
    "print(\"y_list contains %d objects\" % len(y_list))\n",
    "print(\"big_list contains %d objects\" % len(big_list))\n",
    "\n",
    "# testing code\n",
    "if x_list.count(x) == 10 and y_list.count(y) == 10:\n",
    "    print(\"Almost there...\")\n",
    "if big_list.count(x) == 10 and big_list.count(y) == 10:\n",
    "    print(\"Great!\")"
   ]
  },
  {
   "cell_type": "code",
   "execution_count": 20,
   "metadata": {},
   "outputs": [
    {
     "name": "stdout",
     "output_type": "stream",
     "text": [
      "Hello John Doe. Your current balance is $53.44.\n"
     ]
    }
   ],
   "source": [
    "# Write a format string which prints out the data using the following syntax: Hello John Doe. Your current balance is $53.44\n",
    "\n",
    "data = (\"John\", \"Doe\", 53.44)\n",
    "format_string = \"Hello %s %s. Your current balance is $%s.\"\n",
    "\n",
    "print(format_string % data)"
   ]
  },
  {
   "cell_type": "code",
   "execution_count": 21,
   "metadata": {},
   "outputs": [
    {
     "name": "stdout",
     "output_type": "stream",
     "text": [
      "!dlrow olleH\n"
     ]
    }
   ],
   "source": [
    "# Reverse\n",
    "astring = \"Hello world!\"\n",
    "print(astring[::-1])"
   ]
  },
  {
   "cell_type": "code",
   "execution_count": 22,
   "metadata": {},
   "outputs": [
    {
     "name": "stdout",
     "output_type": "stream",
     "text": [
      "l \n"
     ]
    }
   ],
   "source": [
    "astring = \"Hello world!\"\n",
    "print(astring[3:7:2])"
   ]
  },
  {
   "cell_type": "code",
   "execution_count": 23,
   "metadata": {},
   "outputs": [
    {
     "name": "stdout",
     "output_type": "stream",
     "text": [
      "Length of s = 20\n",
      "The first occurrence of the letter a = 8\n",
      "a occurs 2 times\n",
      "The first five characters are 'Strin'\n",
      "The next five characters are 'gs ar'\n",
      "The thirteenth character is 'a'\n",
      "The characters with odd index are 'tig r wsm!'\n",
      "The last five characters are 'some!'\n",
      "String in uppercase: STRINGS ARE AWESOME!\n",
      "String in lowercase: strings are awesome!\n",
      "String starts with 'Str'. Good!\n",
      "String ends with 'ome!'. Good!\n",
      "Split the words of the string: ['Strings', 'are', 'awesome!']\n"
     ]
    }
   ],
   "source": [
    "s = \"Strings are awesome!\"\n",
    "\n",
    "print(\"Length of s = %d\" % len(s))\n",
    "print(\"The first occurrence of the letter a = %d\" % s.index(\"a\"))\n",
    "print(\"a occurs %d times\" % s.count(\"a\"))\n",
    "\n",
    "# Slicing the string into bits\n",
    "print(\"The first five characters are '%s'\" % s[:5]) # Start to 5\n",
    "print(\"The next five characters are '%s'\" % s[5:10]) # 5 to 10\n",
    "print(\"The thirteenth character is '%s'\" % s[12]) # Just number 12\n",
    "print(\"The characters with odd index are '%s'\" %s[1::2])\n",
    "print(\"The last five characters are '%s'\" % s[-5:]) # 5th-from-last to end\n",
    "\n",
    "# Convert everything to uppercase\n",
    "print(\"String in uppercase: %s\" % s.upper())\n",
    "\n",
    "# Convert everything to lowercase\n",
    "print(\"String in lowercase: %s\" % s.lower())\n",
    "\n",
    "# Check how a string starts\n",
    "if s.startswith(\"Str\"):\n",
    "    print(\"String starts with 'Str'. Good!\")\n",
    "\n",
    "# Check how a string ends\n",
    "if s.endswith(\"ome!\"):\n",
    "    print(\"String ends with 'ome!'. Good!\")\n",
    "\n",
    "# Split the string into three separate strings,\n",
    "# each containing only a word\n",
    "print(\"Split the words of the string: %s\" % s.split(\" \"))"
   ]
  },
  {
   "cell_type": "code",
   "execution_count": 24,
   "metadata": {},
   "outputs": [
    {
     "name": "stdout",
     "output_type": "stream",
     "text": [
      "0\n",
      "1\n",
      "2\n",
      "3\n",
      "4\n",
      "3\n",
      "4\n",
      "5\n",
      "3\n",
      "5\n",
      "7\n"
     ]
    }
   ],
   "source": [
    "# Prints out the numbers 0,1,2,3,4\n",
    "for x in range(5):\n",
    "    print(x)\n",
    "\n",
    "# Prints out 3,4,5\n",
    "for x in range(3, 6):\n",
    "    print(x)\n",
    "\n",
    "# Prints out 3,5,7\n",
    "for x in range(3, 8, 2):\n",
    "    print(x)"
   ]
  },
  {
   "cell_type": "code",
   "execution_count": 25,
   "metadata": {},
   "outputs": [
    {
     "name": "stdout",
     "output_type": "stream",
     "text": [
      "0\n",
      "1\n",
      "2\n",
      "3\n",
      "4\n",
      "1\n",
      "3\n",
      "5\n",
      "7\n",
      "9\n"
     ]
    }
   ],
   "source": [
    "# Prints out 0,1,2,3,4\n",
    "\n",
    "count = 0\n",
    "while True:\n",
    "    print(count)\n",
    "    count += 1\n",
    "    if count >= 5:\n",
    "        break\n",
    "\n",
    "# Prints out only odd numbers - 1,3,5,7,9\n",
    "for x in range(10):\n",
    "    # Check if x is even\n",
    "    if x % 2 == 0:\n",
    "        continue\n",
    "    print(x)"
   ]
  },
  {
   "cell_type": "code",
   "execution_count": 26,
   "metadata": {},
   "outputs": [
    {
     "name": "stdout",
     "output_type": "stream",
     "text": [
      "402\n",
      "984\n",
      "360\n",
      "408\n",
      "980\n",
      "544\n",
      "390\n",
      "984\n",
      "592\n",
      "236\n",
      "942\n",
      "386\n",
      "462\n",
      "418\n",
      "344\n",
      "236\n",
      "566\n",
      "978\n",
      "328\n",
      "162\n",
      "758\n",
      "918\n"
     ]
    }
   ],
   "source": [
    "# Loop through and print out all even numbers from the numbers list in the same order they are received. Don't print any \n",
    "# numbers that come after 237 in the sequence.\n",
    "\n",
    "numbers = [\n",
    "    951, 402, 984, 651, 360, 69, 408, 319, 601, 485, 980, 507, 725, 547, 544,\n",
    "    615, 83, 165, 141, 501, 263, 617, 865, 575, 219, 390, 984, 592, 236, 105, 942, 941,\n",
    "    386, 462, 47, 418, 907, 344, 236, 375, 823, 566, 597, 978, 328, 615, 953, 345,\n",
    "    399, 162, 758, 219, 918, 237, 412, 566, 826, 248, 866, 950, 626, 949, 687, 217,\n",
    "    815, 67, 104, 58, 512, 24, 892, 894, 767, 553, 81, 379, 843, 831, 445, 742, 717,\n",
    "    958, 609, 842, 451, 688, 753, 854, 685, 93, 857, 440, 380, 126, 721, 328, 753, 470,\n",
    "    743, 527\n",
    "]\n",
    "\n",
    "for number in numbers:\n",
    "    if number == 237:\n",
    "        break\n",
    "\n",
    "    if number % 2 == 1:\n",
    "        continue\n",
    "\n",
    "    print(number)"
   ]
  },
  {
   "cell_type": "code",
   "execution_count": 29,
   "metadata": {},
   "outputs": [
    {
     "name": "stdout",
     "output_type": "stream",
     "text": [
      "Phone no. of Jim is 2787320 \n",
      "Phone no. of Jill is 84473729 \n",
      "Phone no. of Jack is 38493020 \n"
     ]
    }
   ],
   "source": [
    "phonebook = {\"Jim\":2787320,\"Jill\":84473729,\"Jack\":38493020}\n",
    "\n",
    "for name,number in phonebook.items():\n",
    "    print(\"Phone no. of %s is %d \" %(name,number))    "
   ]
  },
  {
   "cell_type": "markdown",
   "metadata": {},
   "source": [
    "Generators are used to create iterators, but with a different approach. Generators are simple functions which return an \n",
    "iterable set of items, one at a time, in a special way.\n",
    "\n",
    "When an iteration over a set of item starts using the for statement, the generator is run. Once the generator's function \n",
    "code reaches a \"yield\" statement, the generator yields its execution back to the for loop, returning a new value from the \n",
    "set. The generator function can generate as many values (possibly infinite) as it wants, yielding each one in its turn."
   ]
  },
  {
   "cell_type": "code",
   "execution_count": 30,
   "metadata": {},
   "outputs": [
    {
     "name": "stdout",
     "output_type": "stream",
     "text": [
      "And the next number is... 38!\n",
      "And the next number is... 7!\n",
      "And the next number is... 17!\n",
      "And the next number is... 11!\n",
      "And the next number is... 13!\n",
      "And the next number is... 34!\n",
      "And the next number is... 8!\n"
     ]
    }
   ],
   "source": [
    "import random\n",
    "\n",
    "def lottery():\n",
    "    # returns 6 numbers between 1 and 40\n",
    "    for i in range(6):\n",
    "        yield random.randint(1, 40)\n",
    "\n",
    "    # returns a 7th number between 1 and 15\n",
    "    yield random.randint(1,15)\n",
    "\n",
    "for random_number in lottery():\n",
    "       print(\"And the next number is... %d!\" %(random_number))"
   ]
  },
  {
   "cell_type": "markdown",
   "metadata": {},
   "source": [
    "This function decides how to generate the random numbers on its own, and executes the yield statements one at a time, \n",
    "pausing in between to yield execution back to the main for loop."
   ]
  },
  {
   "cell_type": "code",
   "execution_count": 34,
   "metadata": {},
   "outputs": [
    {
     "name": "stdout",
     "output_type": "stream",
     "text": [
      "['the', 'quick', 'brown', 'fox', 'jumps', 'over', 'the', 'lazy', 'dog']\n",
      "[5, 5, 3, 5, 4, 4, 3]\n"
     ]
    }
   ],
   "source": [
    "# Create a list of integers which specify the length of each word in a certain sentence, but only if the word is not the \n",
    "# word \"the\".\n",
    "\n",
    "sentence = \"the quick brown fox jumps over the lazy dog\"\n",
    "words = sentence.split()\n",
    "words_len = []\n",
    "for word in words:\n",
    "    if word != \"the\":\n",
    "        words_len.append(len(word))\n",
    "\n",
    "print(words)\n",
    "print(words_len)"
   ]
  },
  {
   "cell_type": "code",
   "execution_count": 35,
   "metadata": {},
   "outputs": [
    {
     "name": "stdout",
     "output_type": "stream",
     "text": [
      "[34.6, 44.9, 68.3, 44.6, 12.7]\n"
     ]
    }
   ],
   "source": [
    "numbers = [34.6, -203.4, 44.9, 68.3, -12.2, 44.6, 12.7]\n",
    "newlist = []\n",
    "for number in numbers:\n",
    "    if number > 0:\n",
    "        newlist.append(number)\n",
    "print(newlist)"
   ]
  },
  {
   "cell_type": "code",
   "execution_count": 36,
   "metadata": {},
   "outputs": [
    {
     "name": "stdout",
     "output_type": "stream",
     "text": [
      "Good.\n",
      "Better.\n",
      "Great.\n",
      "Awesome!\n"
     ]
    }
   ],
   "source": [
    "\n",
    "def foo(a, b, c, *args):\n",
    "    return len(args)\n",
    "\n",
    "def bar(a, b, c, **kwargs):\n",
    "    return kwargs[\"magicnumber\"] == 7\n",
    "\n",
    "\n",
    "# test code\n",
    "if foo(1,2,3,4) == 1:\n",
    "    print(\"Good.\")\n",
    "if foo(1,2,3,4,5) == 2:\n",
    "    print(\"Better.\")\n",
    "if bar(1,2,3,magicnumber = 6) == False:\n",
    "    print(\"Great.\")\n",
    "if bar(1,2,3,magicnumber = 7) == True:\n",
    "    print(\"Awesome!\")"
   ]
  },
  {
   "cell_type": "code",
   "execution_count": 37,
   "metadata": {},
   "outputs": [],
   "source": [
    "\n",
    "def array_diff(a, b):\n",
    "    res = []\n",
    "\n",
    "    for i in a:\n",
    "        if i not in b:\n",
    "            res.append(i)\n",
    "            \n",
    "    return res   "
   ]
  },
  {
   "cell_type": "code",
   "execution_count": 38,
   "metadata": {},
   "outputs": [
    {
     "name": "stdout",
     "output_type": "stream",
     "text": [
      "True True\n",
      "False False\n",
      "True True\n",
      "True True\n",
      "False False\n"
     ]
    }
   ],
   "source": [
    "def validBraces(string):\n",
    "    braces = [[\"(\", \")\"], [\"{\", \"}\"], [\"[\", \"]\"]]\n",
    "    paired = []\n",
    "\n",
    "    for i in range(len(string) -1):\n",
    "        temp = []\n",
    "        temp.append(string[i])\n",
    "        temp.append(string[i +1])\n",
    "        if temp in braces:\n",
    "            paired.append(temp)\n",
    "            \n",
    "    if len(paired)*2 == len(string):\n",
    "        return True\n",
    "    else:\n",
    "        for i in range(len(string) //2):\n",
    "            temp = []\n",
    "            temp.append(string[i])\n",
    "            temp.append(string[-i -1])\n",
    "            if temp in braces:\n",
    "                paired.append(temp)\n",
    "                \n",
    "            if len(paired)*2 == len(string):\n",
    "                return True\n",
    "    return False\n",
    "\n",
    "print(validBraces( \"()\" ), True);\n",
    "print(validBraces( \"[(])\" ), False);\n",
    "print(validBraces( \"{}()[]\" ), True);\n",
    "print(validBraces( \"([{}])\" ), True);\n",
    "print(validBraces( r\"([}{])\" ), False);"
   ]
  },
  {
   "cell_type": "code",
   "execution_count": 40,
   "metadata": {},
   "outputs": [],
   "source": [
    "def validBraces(s):\n",
    "    while '{}' in s or '()' in s or '[]' in s:\n",
    "        s=s.replace('{}','')\n",
    "        s=s.replace('[]','')\n",
    "        s=s.replace('()','')\n",
    "    return s==''"
   ]
  },
  {
   "cell_type": "code",
   "execution_count": 41,
   "metadata": {},
   "outputs": [
    {
     "name": "stdout",
     "output_type": "stream",
     "text": [
      "{'name', 'Eric', 'and', 'is', 'my'}\n"
     ]
    }
   ],
   "source": [
    "# Sets are lists with no duplicate entries\n",
    "print(set(\"my name is Eric and Eric is my name\".split()))"
   ]
  },
  {
   "cell_type": "code",
   "execution_count": 42,
   "metadata": {},
   "outputs": [
    {
     "name": "stdout",
     "output_type": "stream",
     "text": [
      "{'John'}\n",
      "{'John'}\n"
     ]
    }
   ],
   "source": [
    "a = set([\"Jake\", \"John\", \"Eric\"])\n",
    "b = set([\"John\", \"Jill\"])\n",
    "\n",
    "print(a.intersection(b))\n",
    "print(b.intersection(a))"
   ]
  },
  {
   "cell_type": "code",
   "execution_count": 43,
   "metadata": {},
   "outputs": [
    {
     "name": "stdout",
     "output_type": "stream",
     "text": [
      "{'Eric', 'Jill', 'Jake'}\n",
      "{'Eric', 'Jill', 'Jake'}\n"
     ]
    }
   ],
   "source": [
    "# To find out which members attended only one of the events, we use the \"symmetric_difference\" method\n",
    "a = set([\"Jake\", \"John\", \"Eric\"])\n",
    "b = set([\"John\", \"Jill\"])\n",
    "\n",
    "print(a.symmetric_difference(b))\n",
    "print(b.symmetric_difference(a))"
   ]
  },
  {
   "cell_type": "code",
   "execution_count": 44,
   "metadata": {},
   "outputs": [
    {
     "name": "stdout",
     "output_type": "stream",
     "text": [
      "{'Eric', 'Jake'}\n",
      "{'Jill'}\n"
     ]
    }
   ],
   "source": [
    "a = set([\"Jake\", \"John\", \"Eric\"])\n",
    "b = set([\"John\", \"Jill\"])\n",
    "\n",
    "print(a.difference(b))\n",
    "print(b.difference(a))"
   ]
  },
  {
   "cell_type": "code",
   "execution_count": 45,
   "metadata": {},
   "outputs": [
    {
     "name": "stdout",
     "output_type": "stream",
     "text": [
      "{'Eric', 'Jill', 'John', 'Jake'}\n"
     ]
    }
   ],
   "source": [
    "a = set([\"Jake\", \"John\", \"Eric\"])\n",
    "b = set([\"John\", \"Jill\"])\n",
    "\n",
    "print(a.union(b))"
   ]
  },
  {
   "cell_type": "code",
   "execution_count": 46,
   "metadata": {},
   "outputs": [
    {
     "name": "stdout",
     "output_type": "stream",
     "text": [
      "{'Eric', 'Jake'}\n"
     ]
    }
   ],
   "source": [
    "a = [\"Jake\", \"John\", \"Eric\"]\n",
    "b = [\"John\", \"Jill\"]\n",
    "\n",
    "A = set(a)\n",
    "B = set(b)\n",
    "\n",
    "print(A.difference(B))"
   ]
  },
  {
   "cell_type": "code",
   "execution_count": 47,
   "metadata": {},
   "outputs": [
    {
     "name": "stdout",
     "output_type": "stream",
     "text": [
      "300\n",
      "400\n",
      "800\n"
     ]
    }
   ],
   "source": [
    "# Using json\n",
    "import json\n",
    "\n",
    "# Function to add name and salary and return it\n",
    "def add_employee(salaries_json, name, salary):\n",
    "    salaries = json.loads(salaries_json)\n",
    "    salaries[name] = salary\n",
    "\n",
    "    return json.dumps(salaries)\n",
    "\n",
    "salaries = '{\"Alfred\" : 300, \"Jane\" : 400 }'\n",
    "new_salaries = add_employee(salaries, \"Me\", 800)\n",
    "decoded_salaries = json.loads(new_salaries)\n",
    "print(decoded_salaries[\"Alfred\"])\n",
    "print(decoded_salaries[\"Jane\"])\n",
    "print(decoded_salaries[\"Me\"])"
   ]
  },
  {
   "cell_type": "code",
   "execution_count": 48,
   "metadata": {},
   "outputs": [
    {
     "name": "stdout",
     "output_type": "stream",
     "text": [
      "[1, 2, 3, \"a\", \"b\", \"c\"]\n"
     ]
    }
   ],
   "source": [
    "import json\n",
    "json_string = json.dumps([1, 2, 3, \"a\", \"b\", \"c\"])\n",
    "print(json_string)"
   ]
  },
  {
   "cell_type": "code",
   "execution_count": 49,
   "metadata": {},
   "outputs": [
    {
     "name": "stdout",
     "output_type": "stream",
     "text": [
      "[1, 2, 3, 'a', 'b', 'c']\n"
     ]
    }
   ],
   "source": [
    "import pickle\n",
    "pickled_string = pickle.dumps([1, 2, 3, \"a\", \"b\", \"c\"])\n",
    "print(pickle.loads(pickled_string))"
   ]
  },
  {
   "cell_type": "code",
   "execution_count": 50,
   "metadata": {},
   "outputs": [
    {
     "name": "stdout",
     "output_type": "stream",
     "text": [
      "60\n"
     ]
    }
   ],
   "source": [
    "# Partial functions\n",
    "from functools import partial\n",
    "def func(u,v,w,x):\n",
    "    return u*4 + v*3 + w*2 + x\n",
    "\n",
    "p = partial(func,5,6,7)\n",
    "print(p(8))"
   ]
  },
  {
   "cell_type": "code",
   "execution_count": 1,
   "metadata": {},
   "outputs": [
    {
     "name": "stdout",
     "output_type": "stream",
     "text": [
      "Test message\n",
      "None\n"
     ]
    }
   ],
   "source": [
    "# Nested functions\n",
    "\n",
    "def transmit_to_space(message):\n",
    "    \"This is the enclosing function\"\n",
    "    def data_transmitter():\n",
    "        \"The nested function\"\n",
    "        print(message)\n",
    "\n",
    "    data_transmitter()\n",
    "\n",
    "print(transmit_to_space(\"Test message\"))"
   ]
  },
  {
   "cell_type": "code",
   "execution_count": 2,
   "metadata": {},
   "outputs": [
    {
     "name": "stdout",
     "output_type": "stream",
     "text": [
      "3\n",
      "3\n"
     ]
    }
   ],
   "source": [
    "def print_msg(number):\n",
    "    def printer():\n",
    "        \"Here we are using the nonlocal keyword\"\n",
    "        nonlocal number\n",
    "        number=3\n",
    "        print(number)\n",
    "    printer()\n",
    "    print(number)\n",
    "\n",
    "print_msg(9)"
   ]
  },
  {
   "cell_type": "code",
   "execution_count": 9,
   "metadata": {},
   "outputs": [
    {
     "name": "stdout",
     "output_type": "stream",
     "text": [
      "['tim', 'scott', 'reno', 'aria']\n"
     ]
    }
   ],
   "source": [
    "all_names = ['TIM', 'SCOTT', 'RENO', 'ARIA']\n",
    "new_names = []\n",
    "\n",
    "for name in all_names:\n",
    "    name_ = name.lower()\n",
    "    new_names.append(name_)\n",
    "\n",
    "print(new_names)"
   ]
  },
  {
   "cell_type": "code",
   "execution_count": 11,
   "metadata": {},
   "outputs": [
    {
     "name": "stdout",
     "output_type": "stream",
     "text": [
      "['tim', 'scott', 'reno', 'aria']\n"
     ]
    }
   ],
   "source": [
    "# Using maps\n",
    "all_names = ['TIM', 'SCOTT', 'RENO', 'ARIA']\n",
    "\n",
    "new_names = list(map(str.lower, all_names))\n",
    "\n",
    "print(new_names)"
   ]
  },
  {
   "cell_type": "code",
   "execution_count": 12,
   "metadata": {},
   "outputs": [
    {
     "name": "stdout",
     "output_type": "stream",
     "text": [
      "[3.6, 5.58, 4.009, 56.2424, 9.01344, 32.00013]\n"
     ]
    }
   ],
   "source": [
    "circle_areas = [3.56773, 5.57668, 4.00914, 56.24241, 9.01344, 32.00013]\n",
    "\n",
    "result = list(map(round, circle_areas, range(1,7)))\n",
    "\n",
    "print(result)"
   ]
  },
  {
   "cell_type": "code",
   "execution_count": 13,
   "metadata": {},
   "outputs": [
    {
     "name": "stdout",
     "output_type": "stream",
     "text": [
      "[('a', 1), ('b', 2), ('c', 3), ('d', 4), ('e', 5)]\n"
     ]
    }
   ],
   "source": [
    "my_strings = ['a', 'b', 'c', 'd', 'e']\n",
    "my_numbers = [1,2,3,4,5]\n",
    "\n",
    "results = list(zip(my_strings, my_numbers))\n",
    "\n",
    "print(results)"
   ]
  },
  {
   "cell_type": "code",
   "execution_count": 14,
   "metadata": {},
   "outputs": [
    {
     "name": "stdout",
     "output_type": "stream",
     "text": [
      "[85, 90, 76, 88]\n"
     ]
    }
   ],
   "source": [
    "scores = [65, 85, 90, 68, 59, 76, 60, 88, 75, 65]\n",
    "\n",
    "def marks_student(score):\n",
    "    return score > 75\n",
    "\n",
    "over_75 = list(filter(marks_student, scores))\n",
    "\n",
    "print(over_75)"
   ]
  },
  {
   "cell_type": "code",
   "execution_count": 23,
   "metadata": {},
   "outputs": [
    {
     "name": "stdout",
     "output_type": "stream",
     "text": [
      "['malayalam', 'dad', 'madam', 'mom']\n"
     ]
    }
   ],
   "source": [
    "pal_names = (\"malayalam\", \"dad\", \"madam\", \"free\", \"ajhdas\",\"mom\")\n",
    "\n",
    "palindromes = list(filter(lambda word: word == word[::-1], pal_names))\n",
    "\n",
    "print(palindromes)"
   ]
  },
  {
   "cell_type": "code",
   "execution_count": 18,
   "metadata": {},
   "outputs": [
    {
     "name": "stdout",
     "output_type": "stream",
     "text": [
      "44\n"
     ]
    }
   ],
   "source": [
    "from functools import reduce\n",
    "\n",
    "numbers = [3, 4, 6, 9, 10, 12]\n",
    "\n",
    "def total_sum(first, second):\n",
    "    return first + second\n",
    "\n",
    "result = reduce(total_sum, numbers)\n",
    "print(result)"
   ]
  },
  {
   "cell_type": "code",
   "execution_count": 19,
   "metadata": {},
   "outputs": [
    {
     "name": "stdout",
     "output_type": "stream",
     "text": [
      "78\n"
     ]
    }
   ],
   "source": [
    "\n",
    "numbers = [3, 4, 6, 9, 34, 12]\n",
    "\n",
    "def custom_sum(first, second):\n",
    "    return first + second\n",
    "\n",
    "result = reduce(custom_sum, numbers, 10)\n",
    "print(result)"
   ]
  },
  {
   "cell_type": "code",
   "execution_count": 22,
   "metadata": {},
   "outputs": [
    {
     "name": "stdout",
     "output_type": "stream",
     "text": [
      "[18.922, 42.25, 10.562, 89.302, 4.666, 78.854, 21.068]\n",
      "['josiah', 'museum']\n",
      "24840\n"
     ]
    }
   ],
   "source": [
    "from functools import reduce \n",
    "\n",
    "my_floats = [4.35, 6.50, 3.25, 9.45, 2.16, 8.88, 4.59]\n",
    "my_names = [\"sunshine\", \"beautiful\", \"josiah\", \"museum\", \"nsdksdksds\"]\n",
    "my_numbers = [4, 6, 9, 23, 5]\n",
    "\n",
    "map_result = list(map(lambda x: round(x ** 2, 3), my_floats))\n",
    "filter_result = list(filter(lambda name: len(name) <= 7, my_names))\n",
    "reduce_result = reduce(lambda num1, num2: num1 * num2, my_numbers)\n",
    "\n",
    "print(map_result)\n",
    "print(filter_result)\n",
    "print(reduce_result)"
   ]
  },
  {
   "cell_type": "code",
   "execution_count": 15,
   "metadata": {},
   "outputs": [
    {
     "name": "stdout",
     "output_type": "stream",
     "text": [
      "['scooby', 'tom', 'jerry', 'henry', 'dave']\n"
     ]
    }
   ],
   "source": [
    "all_names = ['SCOOBY', 'TOM', 'JERRY', 'HENRY','DAVE']\n",
    "\n",
    "# creating an empty list to store names in lower case\n",
    "new_names = []\n",
    "\n",
    "for name in all_names:\n",
    "    name_ = name.lower()\n",
    "    new_names.append(name_) # appending the names to the list\n",
    "\n",
    "print(new_names)"
   ]
  },
  {
   "cell_type": "code",
   "execution_count": 16,
   "metadata": {},
   "outputs": [
    {
     "name": "stdout",
     "output_type": "stream",
     "text": [
      "['scooby', 'tom', 'jerry', 'henry', 'dave']\n"
     ]
    }
   ],
   "source": [
    "all_names = ['SCOOBY', 'TOM', 'JERRY', 'HENRY','DAVE']\n",
    "\n",
    "new_names = list(map(str.lower, all_names))\n",
    "\n",
    "print(new_names)"
   ]
  },
  {
   "cell_type": "code",
   "execution_count": 27,
   "metadata": {},
   "outputs": [
    {
     "name": "stdout",
     "output_type": "stream",
     "text": [
      "[7.2, 4.55, 15.019]\n"
     ]
    }
   ],
   "source": [
    "deci_numbers = [7.156783, 4.546689, 15.019104, 11.132421, 2.901344, 23.000103]\n",
    "\n",
    "result = list(map(round, deci_numbers, range(1,4)))\n",
    "\n",
    "print(result)"
   ]
  },
  {
   "cell_type": "code",
   "execution_count": 24,
   "metadata": {},
   "outputs": [
    {
     "name": "stdout",
     "output_type": "stream",
     "text": [
      "[('scooby', 1), ('spider', 2), ('bruce', 3), ('tom', 4)]\n"
     ]
    }
   ],
   "source": [
    "first_names = ['scooby', 'spider', 'bruce', 'tom']\n",
    "new_number = [1,2,3,4]\n",
    "\n",
    "results = list(zip(first_names, new_number))\n",
    "\n",
    "print(results)"
   ]
  },
  {
   "cell_type": "code",
   "execution_count": 29,
   "metadata": {},
   "outputs": [
    {
     "name": "stdout",
     "output_type": "stream",
     "text": [
      "[('scooby', 1), ('spider', 2), ('bruce', 3), ('tom', 4)]\n"
     ]
    }
   ],
   "source": [
    "first_names = ['scooby', 'spider', 'bruce', 'tom']\n",
    "new_number = [1,2,3,4]\n",
    "\n",
    "results = list(map(lambda x, y: (x, y), first_names, new_number))\n",
    "\n",
    "print(results)"
   ]
  },
  {
   "cell_type": "code",
   "execution_count": 5,
   "metadata": {},
   "outputs": [
    {
     "name": "stdout",
     "output_type": "stream",
     "text": [
      "[45, 59, 60, 55, 81, 65]\n"
     ]
    }
   ],
   "source": [
    "age = [25, 45, 30, 59, 20, 60, 29, 55, 81, 65]\n",
    "\n",
    "def check_age(age):\n",
    "    return age > 35\n",
    "\n",
    "result = list(filter(check_age, age))\n",
    "\n",
    "print(result)"
   ]
  },
  {
   "cell_type": "code",
   "execution_count": 7,
   "metadata": {},
   "outputs": [
    {
     "name": "stdout",
     "output_type": "stream",
     "text": [
      "['dad', 'mam', 'madam']\n"
     ]
    }
   ],
   "source": [
    "pal_names = (\"dad\", \"mam\", \"madam\", \"auto\", \"science\", \"data\")\n",
    "\n",
    "palindromes = list(filter(lambda word: word == word[::-1], pal_names))\n",
    "\n",
    "print(palindromes)"
   ]
  },
  {
   "cell_type": "code",
   "execution_count": 9,
   "metadata": {},
   "outputs": [
    {
     "name": "stdout",
     "output_type": "stream",
     "text": [
      "[1, 2, 3, 4]\n"
     ]
    }
   ],
   "source": [
    "number_range = range(-3, 5)\n",
    "greater_than_zero = list(filter(lambda x: x > 0, number_range))\n",
    "print(greater_than_zero)"
   ]
  },
  {
   "cell_type": "code",
   "execution_count": 16,
   "metadata": {},
   "outputs": [
    {
     "name": "stdout",
     "output_type": "stream",
     "text": [
      "10\n"
     ]
    }
   ],
   "source": [
    "sum = 0\n",
    "list = [1, 2, 3, 4]\n",
    "for num in list:\n",
    "    sum = sum + num\n",
    "print(sum)"
   ]
  },
  {
   "cell_type": "code",
   "execution_count": 123,
   "metadata": {},
   "outputs": [
    {
     "name": "stdout",
     "output_type": "stream",
     "text": [
      "10\n"
     ]
    }
   ],
   "source": [
    "from functools import reduce\n",
    "\n",
    "list = [1,2,3,4]\n",
    "\n",
    "def new_sum(first, second):\n",
    "    return first + second\n",
    "\n",
    "result = reduce(new_sum, list)\n",
    "print(result)"
   ]
  },
  {
   "cell_type": "code",
   "execution_count": 124,
   "metadata": {},
   "outputs": [
    {
     "name": "stdout",
     "output_type": "stream",
     "text": [
      "15\n"
     ]
    }
   ],
   "source": [
    "list = [1,2,3,4]\n",
    "\n",
    "def new_sum(first, second):\n",
    "    return first + second\n",
    "\n",
    "result = reduce(new_sum, list,5)\n",
    "print(result)"
   ]
  },
  {
   "cell_type": "code",
   "execution_count": 21,
   "metadata": {},
   "outputs": [
    {
     "name": "stdout",
     "output_type": "stream",
     "text": [
      "10\n"
     ]
    }
   ],
   "source": [
    "from functools import reduce\n",
    "sum = reduce((lambda x, y: x + y), [1, 2, 3, 4])\n",
    "print(sum)"
   ]
  },
  {
   "cell_type": "code",
   "execution_count": 33,
   "metadata": {},
   "outputs": [
    {
     "data": {
      "text/plain": [
       "22"
      ]
     },
     "execution_count": 33,
     "metadata": {},
     "output_type": "execute_result"
    }
   ],
   "source": [
    "# If it’s a multiplier of 3, print “Fizz”,If it’s a multiplier of 5, print “Buzz”\n",
    "# If both 3 and 5 — “Fizz Buzz”, Otherwise, print the number itself\n",
    "\n",
    "def fizz_buzz(num):\n",
    "    if num % 3 == 0 and num % 5 == 0:\n",
    "        return \"Fizz Buzz\"\n",
    "    elif num % 3 == 0:\n",
    "        return \"Fizz\"\n",
    "    elif num % 5 == 0:\n",
    "        return \"Buzz\"\n",
    "    else:\n",
    "        return num\n",
    "\n",
    "fizz_buzz(22)"
   ]
  },
  {
   "cell_type": "code",
   "execution_count": 1,
   "metadata": {
    "scrolled": false
   },
   "outputs": [],
   "source": [
    "#dir(np)"
   ]
  },
  {
   "cell_type": "code",
   "execution_count": 112,
   "metadata": {},
   "outputs": [
    {
     "data": {
      "text/plain": [
       "1.2909944487358056"
      ]
     },
     "execution_count": 112,
     "metadata": {},
     "output_type": "execute_result"
    }
   ],
   "source": [
    "import math\n",
    "from math import sqrt\n",
    "\n",
    "def std_dev(numbers):\n",
    "    if len(numbers) > 0:\n",
    "        avg = np.mean(numbers)\n",
    "        var=0\n",
    "        for i in numbers:\n",
    "            var += (i-avg) ** 2\n",
    "        new_var =   var / (len(numbers)-1)\n",
    "        ans = sqrt(new_var)\n",
    "        return ans\n",
    "    return float('NaN')\n",
    "\n",
    "numbers = [1,2,3,4]\n",
    "\n",
    "std_dev(numbers)"
   ]
  },
  {
   "cell_type": "code",
   "execution_count": 106,
   "metadata": {},
   "outputs": [],
   "source": [
    "numbers = [1,2,3,4]"
   ]
  },
  {
   "cell_type": "code",
   "execution_count": 2,
   "metadata": {
    "scrolled": false
   },
   "outputs": [],
   "source": [
    "#help(sum)"
   ]
  },
  {
   "cell_type": "code",
   "execution_count": 121,
   "metadata": {},
   "outputs": [],
   "source": [
    "from math import sqrt\n",
    "\n",
    "def std_dev(numbers):\n",
    "    global sum\n",
    "    if len(numbers) > 0:\n",
    "        avg = np.mean(numbers)\n",
    "        print(numbers)\n",
    "        var = np.sum([(i - avg) ** 2 for i in numbers]) / len(numbers)\n",
    "        \n",
    "        ans = sqrt(var)\n",
    "        return ans\n",
    "    return float('NaN')\n"
   ]
  },
  {
   "cell_type": "code",
   "execution_count": 122,
   "metadata": {},
   "outputs": [
    {
     "name": "stdout",
     "output_type": "stream",
     "text": [
      "[1, 2, 3, 4]\n"
     ]
    },
    {
     "data": {
      "text/plain": [
       "1.118033988749895"
      ]
     },
     "execution_count": 122,
     "metadata": {},
     "output_type": "execute_result"
    }
   ],
   "source": [
    "std_dev(numbers)"
   ]
  },
  {
   "cell_type": "code",
   "execution_count": 46,
   "metadata": {},
   "outputs": [],
   "source": [
    "def count_num(num_list):\n",
    "    result = []\n",
    "    for num in num_list:\n",
    "        if num_list.count(num) > 1 and num not in result:\n",
    "            result.append(num)\n",
    "    return result        "
   ]
  },
  {
   "cell_type": "code",
   "execution_count": 47,
   "metadata": {},
   "outputs": [
    {
     "data": {
      "text/plain": [
       "[1, 3, 4]"
      ]
     },
     "execution_count": 47,
     "metadata": {},
     "output_type": "execute_result"
    }
   ],
   "source": [
    "new_list = [1,2,1,3,3,4,4]\n",
    "count_num(new_list)"
   ]
  },
  {
   "cell_type": "code",
   "execution_count": 56,
   "metadata": {},
   "outputs": [
    {
     "name": "stdout",
     "output_type": "stream",
     "text": [
      "Hello Jerry. Welcome to the world of Python\n"
     ]
    }
   ],
   "source": [
    "def my_function(name,lang):\n",
    "  print(\"Hello %s. Welcome to the world of %s\" %(name,lang))\n",
    "\n",
    "my_function('Jerry','Python')"
   ]
  },
  {
   "cell_type": "code",
   "execution_count": 58,
   "metadata": {},
   "outputs": [
    {
     "name": "stdout",
     "output_type": "stream",
     "text": [
      "This is the world of Python\n"
     ]
    }
   ],
   "source": [
    "def my_function(*lang):\n",
    "  print(\"This is the world of \" + lang[1])\n",
    "\n",
    "my_function(\"Java\", \"Python\", \"C++\")"
   ]
  },
  {
   "cell_type": "code",
   "execution_count": 60,
   "metadata": {},
   "outputs": [
    {
     "name": "stdout",
     "output_type": "stream",
     "text": [
      "My first name is Jerry\n"
     ]
    }
   ],
   "source": [
    "def my_function(**name):\n",
    "  print(\"My first name is \" + name[\"fname\"])\n",
    "\n",
    "my_function(fname = \"Jerry\", lname = \"Mouse\")"
   ]
  },
  {
   "cell_type": "code",
   "execution_count": 66,
   "metadata": {},
   "outputs": [
    {
     "name": "stdout",
     "output_type": "stream",
     "text": [
      "Country name is US\n",
      "Country name is India\n",
      "Country name is Australia\n"
     ]
    }
   ],
   "source": [
    "def my_function(countries):\n",
    "  for c in countries:\n",
    "    print(\"Country name is %s\" %(c))\n",
    "\n",
    "countries = [\"US\", \"India\", \"Australia\"]\n",
    "\n",
    "my_function(countries)"
   ]
  },
  {
   "cell_type": "code",
   "execution_count": 73,
   "metadata": {},
   "outputs": [],
   "source": [
    "# Calculate how many ids we have per site\n",
    "\n",
    "def new_list(ids):\n",
    "    res = []\n",
    "    for i in ids:\n",
    "        id = i[-2:]\n",
    "        res.append(id)\n",
    "    #print(res) \n",
    "    result = {}\n",
    "    for x in res:\n",
    "        result[x] = res.count(x)\n",
    "    return result              \n",
    "    "
   ]
  },
  {
   "cell_type": "code",
   "execution_count": 74,
   "metadata": {},
   "outputs": [
    {
     "data": {
      "text/plain": [
       "{'ID': 1, 'IN': 2, 'PL': 2, 'UA': 1}"
      ]
     },
     "execution_count": 74,
     "metadata": {},
     "output_type": "execute_result"
    }
   ],
   "source": [
    "new_list(['xgc8qnman8so3-ID', 'oo7052mi2p5r2-IN', 'g80c1j19c12p-IN', 'jcyb4ozn87q63-PL', 'pew7nsb-PL', '5kdkydfo-UA'])"
   ]
  },
  {
   "cell_type": "code",
   "execution_count": 79,
   "metadata": {},
   "outputs": [],
   "source": [
    "def new_func(ids):\n",
    "   # list_ids = [i[-2:] for i in ids]\n",
    "    return {id: [i[-2:] for i in ids].count(id) for id in [i[-2:] for i in ids]}\n",
    "    "
   ]
  },
  {
   "cell_type": "code",
   "execution_count": 80,
   "metadata": {},
   "outputs": [
    {
     "data": {
      "text/plain": [
       "{'ID': 1, 'IN': 2, 'PL': 2, 'UA': 1}"
      ]
     },
     "execution_count": 80,
     "metadata": {},
     "output_type": "execute_result"
    }
   ],
   "source": [
    "new_func(['xgc8qnman8so3-ID', 'oo7052mi2p5r2-IN', 'g80c1j19c12p-IN', 'jcyb4ozn87q63-PL', 'pew7nsb-PL', '5kdkydfo-UA'])"
   ]
  },
  {
   "cell_type": "code",
   "execution_count": 84,
   "metadata": {},
   "outputs": [
    {
     "name": "stdout",
     "output_type": "stream",
     "text": [
      "77760\n"
     ]
    }
   ],
   "source": [
    "from functools import reduce\n",
    "\n",
    "numbers = [3, 4, 6, 9, 10, 12]\n",
    "\n",
    "def abc(a, b):\n",
    "    return a * b\n",
    "\n",
    "result = reduce(abc, numbers)\n",
    "print(result)"
   ]
  },
  {
   "cell_type": "code",
   "execution_count": 89,
   "metadata": {},
   "outputs": [],
   "source": [
    "from functools import reduce\n",
    "def abc(a,b):\n",
    "    return a*b\n",
    "\n",
    "def fact(num):\n",
    "    return reduce(abc,range(1,num+1))    "
   ]
  },
  {
   "cell_type": "code",
   "execution_count": 88,
   "metadata": {},
   "outputs": [
    {
     "data": {
      "text/plain": [
       "120"
      ]
     },
     "execution_count": 88,
     "metadata": {},
     "output_type": "execute_result"
    }
   ],
   "source": [
    "fact(5)"
   ]
  },
  {
   "cell_type": "code",
   "execution_count": 90,
   "metadata": {},
   "outputs": [],
   "source": [
    "def fact(num):\n",
    "    return reduce(lambda x,y:x*y,range(1,num+1))    "
   ]
  },
  {
   "cell_type": "code",
   "execution_count": 91,
   "metadata": {},
   "outputs": [
    {
     "data": {
      "text/plain": [
       "120"
      ]
     },
     "execution_count": 91,
     "metadata": {},
     "output_type": "execute_result"
    }
   ],
   "source": [
    "fact(5)"
   ]
  },
  {
   "cell_type": "code",
   "execution_count": 94,
   "metadata": {},
   "outputs": [],
   "source": [
    "import math\n",
    "\n",
    "def fact(num):\n",
    "    return math.prod(range(1,num+1))"
   ]
  },
  {
   "cell_type": "code",
   "execution_count": 93,
   "metadata": {},
   "outputs": [
    {
     "ename": "AttributeError",
     "evalue": "module 'math' has no attribute 'prod'",
     "output_type": "error",
     "traceback": [
      "\u001b[1;31m---------------------------------------------------------------------------\u001b[0m",
      "\u001b[1;31mAttributeError\u001b[0m                            Traceback (most recent call last)",
      "\u001b[1;32m<ipython-input-93-0cc1af4300ee>\u001b[0m in \u001b[0;36m<module>\u001b[1;34m\u001b[0m\n\u001b[1;32m----> 1\u001b[1;33m \u001b[0mfact\u001b[0m\u001b[1;33m(\u001b[0m\u001b[1;36m4\u001b[0m\u001b[1;33m)\u001b[0m\u001b[1;33m\u001b[0m\u001b[1;33m\u001b[0m\u001b[0m\n\u001b[0m",
      "\u001b[1;32m<ipython-input-92-1b788346b43e>\u001b[0m in \u001b[0;36mfact\u001b[1;34m(num)\u001b[0m\n\u001b[0;32m      2\u001b[0m \u001b[1;33m\u001b[0m\u001b[0m\n\u001b[0;32m      3\u001b[0m \u001b[1;32mdef\u001b[0m \u001b[0mfact\u001b[0m\u001b[1;33m(\u001b[0m\u001b[0mnum\u001b[0m\u001b[1;33m)\u001b[0m\u001b[1;33m:\u001b[0m\u001b[1;33m\u001b[0m\u001b[1;33m\u001b[0m\u001b[0m\n\u001b[1;32m----> 4\u001b[1;33m     \u001b[1;32mreturn\u001b[0m \u001b[0mmath\u001b[0m\u001b[1;33m.\u001b[0m\u001b[0mprod\u001b[0m\u001b[1;33m(\u001b[0m\u001b[0mrange\u001b[0m\u001b[1;33m(\u001b[0m\u001b[1;36m1\u001b[0m\u001b[1;33m,\u001b[0m\u001b[0mnum\u001b[0m\u001b[1;33m+\u001b[0m\u001b[1;36m1\u001b[0m\u001b[1;33m)\u001b[0m\u001b[1;33m)\u001b[0m\u001b[1;33m\u001b[0m\u001b[1;33m\u001b[0m\u001b[0m\n\u001b[0m",
      "\u001b[1;31mAttributeError\u001b[0m: module 'math' has no attribute 'prod'"
     ]
    }
   ],
   "source": [
    "fact(4)"
   ]
  },
  {
   "cell_type": "code",
   "execution_count": 97,
   "metadata": {},
   "outputs": [
    {
     "name": "stdout",
     "output_type": "stream",
     "text": [
      "3.6.10\n"
     ]
    }
   ],
   "source": [
    "from platform import python_version\n",
    "print(python_version())"
   ]
  },
  {
   "cell_type": "code",
   "execution_count": 133,
   "metadata": {},
   "outputs": [
    {
     "data": {
      "text/plain": [
       "{'a': 6, 'b': 4, 'c': 2, 'd': 1}"
      ]
     },
     "execution_count": 133,
     "metadata": {},
     "output_type": "execute_result"
    }
   ],
   "source": [
    "# 'aaaabbbcca' ⇒ [('a', 4), ('b', 3), ('c', 2), ('a', 1)]\n",
    "\n",
    "def count_alpha(alpha):\n",
    "    new_res={}\n",
    "    for x in alpha:\n",
    "        new_res[x] = alpha.count(x)\n",
    "    return new_res\n",
    "\n",
    "count_alpha('aaaaabbbbccad')\n",
    "        "
   ]
  },
  {
   "cell_type": "code",
   "execution_count": 135,
   "metadata": {},
   "outputs": [
    {
     "name": "stdout",
     "output_type": "stream",
     "text": [
      "          * \n",
      "        * * * \n",
      "      * * * * * \n",
      "    * * * * * * * \n",
      "  * * * * * * * * * \n"
     ]
    }
   ],
   "source": [
    "def triangleShape(n):\n",
    "    for i in range(n):\n",
    "        for j in range(n-i):\n",
    "            print(' ', end=' ')\n",
    "        for k in range(2*i+1):\n",
    "            print('*',end=' ')\n",
    "        print()\n",
    "\n",
    "triangleShape(5)        "
   ]
  },
  {
   "cell_type": "code",
   "execution_count": 136,
   "metadata": {},
   "outputs": [
    {
     "name": "stdout",
     "output_type": "stream",
     "text": [
      "{'course': 'Python', 'data': 'Dictionary', 'year': 2020}\n"
     ]
    }
   ],
   "source": [
    "new_dict = {\n",
    "  \"course\": \"Python\",\n",
    "  \"data\": \"Dictionary\",\n",
    "  \"year\": 2020\n",
    "}\n",
    "print(new_dict)"
   ]
  },
  {
   "cell_type": "code",
   "execution_count": 138,
   "metadata": {},
   "outputs": [
    {
     "name": "stdout",
     "output_type": "stream",
     "text": [
      "{'course': 'Python', 'data': 'Dictionary', 'year': 2020}\n"
     ]
    }
   ],
   "source": [
    "new_dict = dict([\n",
    "    ('course','Python'),\n",
    "    ('data','Dictionary'),\n",
    "    ('year',2020)\n",
    "])\n",
    "print(new_dict)"
   ]
  },
  {
   "cell_type": "code",
   "execution_count": 139,
   "metadata": {},
   "outputs": [
    {
     "data": {
      "text/plain": [
       "'Python'"
      ]
     },
     "execution_count": 139,
     "metadata": {},
     "output_type": "execute_result"
    }
   ],
   "source": [
    "new_dict['course']"
   ]
  },
  {
   "cell_type": "code",
   "execution_count": 141,
   "metadata": {},
   "outputs": [
    {
     "data": {
      "text/plain": [
       "'Python'"
      ]
     },
     "execution_count": 141,
     "metadata": {},
     "output_type": "execute_result"
    }
   ],
   "source": [
    "new_dict.get('course')"
   ]
  },
  {
   "cell_type": "code",
   "execution_count": 142,
   "metadata": {},
   "outputs": [
    {
     "data": {
      "text/plain": [
       "{'course': 'Python',\n",
       " 'data': 'Dictionary',\n",
       " 'year': 2020,\n",
       " 'job': 'Data Scientist'}"
      ]
     },
     "execution_count": 142,
     "metadata": {},
     "output_type": "execute_result"
    }
   ],
   "source": [
    "new_dict['job'] = 'Data Scientist'\n",
    "new_dict"
   ]
  },
  {
   "cell_type": "code",
   "execution_count": 143,
   "metadata": {},
   "outputs": [
    {
     "data": {
      "text/plain": [
       "{'course': 'Python',\n",
       " 'data': 'Dictionary',\n",
       " 'year': 2021,\n",
       " 'job': 'Data Scientist'}"
      ]
     },
     "execution_count": 143,
     "metadata": {},
     "output_type": "execute_result"
    }
   ],
   "source": [
    "new_dict['year'] = 2021\n",
    "new_dict"
   ]
  },
  {
   "cell_type": "code",
   "execution_count": 144,
   "metadata": {},
   "outputs": [
    {
     "data": {
      "text/plain": [
       "{'course': 'Python', 'data': 'Dictionary', 'job': 'Data Scientist'}"
      ]
     },
     "execution_count": 144,
     "metadata": {},
     "output_type": "execute_result"
    }
   ],
   "source": [
    "del new_dict['year']\n",
    "new_dict"
   ]
  },
  {
   "cell_type": "code",
   "execution_count": 148,
   "metadata": {},
   "outputs": [
    {
     "name": "stdout",
     "output_type": "stream",
     "text": [
      "{}\n"
     ]
    }
   ],
   "source": [
    "system_dict = {\n",
    "  \"brand\": \"Lenovo\",\n",
    "  \"model\": \"Laptop\",\n",
    "  \"year\": 2015\n",
    "}\n",
    "system_dict.clear()\n",
    "\n",
    "print(system_dict)"
   ]
  },
  {
   "cell_type": "code",
   "execution_count": 149,
   "metadata": {},
   "outputs": [
    {
     "name": "stdout",
     "output_type": "stream",
     "text": [
      "{'course': 'Python', 'data': 'Dictionary', 'year': 2020}\n"
     ]
    }
   ],
   "source": [
    "first_dict = dict([\n",
    "    ('course','Python'),\n",
    "    ('data','Dictionary'),\n",
    "    ('year',2020)\n",
    "])\n",
    "new_dict = first_dict.copy()\n",
    "print(new_dict)"
   ]
  },
  {
   "cell_type": "code",
   "execution_count": 150,
   "metadata": {},
   "outputs": [
    {
     "name": "stdout",
     "output_type": "stream",
     "text": [
      "course\n",
      "data\n",
      "year\n"
     ]
    }
   ],
   "source": [
    "for x in new_dict:\n",
    "  print(x)"
   ]
  },
  {
   "cell_type": "code",
   "execution_count": 151,
   "metadata": {},
   "outputs": [
    {
     "name": "stdout",
     "output_type": "stream",
     "text": [
      "Python\n",
      "Dictionary\n",
      "2020\n"
     ]
    }
   ],
   "source": [
    "for x in new_dict:\n",
    "  print(new_dict[x])"
   ]
  },
  {
   "cell_type": "code",
   "execution_count": 152,
   "metadata": {},
   "outputs": [
    {
     "name": "stdout",
     "output_type": "stream",
     "text": [
      "{'dad': {'name': 'Jack', 'year': 1981}, 'mom': {'name': 'Rachel', 'year': 1985}, 'child': {'name': 'Tony', 'year': 2016}}\n"
     ]
    }
   ],
   "source": [
    "our_family = {\n",
    "    \"dad\": {\n",
    "    \"name\" : \"Jack\",\n",
    "    \"year\" : 1981\n",
    "  },\n",
    "    \"mom\": {\n",
    "    \"name\" : \"Rachel\",\n",
    "    \"year\" : 1985\n",
    "  },\n",
    "   \"child\" : {\n",
    "    \"name\" : \"Tony\",\n",
    "    \"year\" : 2016\n",
    "  }\n",
    "}\n",
    "\n",
    "print(our_family)"
   ]
  },
  {
   "cell_type": "code",
   "execution_count": 154,
   "metadata": {},
   "outputs": [
    {
     "name": "stdout",
     "output_type": "stream",
     "text": [
      "{'dad': {'name': 'Jack', 'year': 1981}, 'mom': {'name': 'Rachel', 'year': 1985}, 'child': {'name': 'Tony', 'year': 2016}}\n"
     ]
    }
   ],
   "source": [
    "dad = {\n",
    "  \"name\" : \"Jack\",\n",
    "  \"year\" : 1981\n",
    "}\n",
    "\n",
    "mom = {\n",
    "  \"name\" : \"Rachel\",\n",
    "  \"year\" : 1985\n",
    "}\n",
    "\n",
    "child = {\n",
    "  \"name\" : \"Tony\",\n",
    "  \"year\" : 2016\n",
    "}\n",
    "\n",
    "our_family = {\n",
    "  \"dad\" : dad,\n",
    "  \"mom\" : mom,\n",
    "  \"child\" : child\n",
    "}\n",
    "\n",
    "print(our_family)"
   ]
  },
  {
   "cell_type": "code",
   "execution_count": 155,
   "metadata": {},
   "outputs": [
    {
     "name": "stdout",
     "output_type": "stream",
     "text": [
      "course Python\n",
      "data Dictionary\n",
      "year 2020\n"
     ]
    }
   ],
   "source": [
    "for x, y in new_dict.items():\n",
    "  print(x, y)"
   ]
  },
  {
   "cell_type": "code",
   "execution_count": 156,
   "metadata": {},
   "outputs": [
    {
     "name": "stdout",
     "output_type": "stream",
     "text": [
      "Python\n",
      "Dictionary\n",
      "2020\n"
     ]
    }
   ],
   "source": [
    "for x in new_dict.values():\n",
    "  print(x)"
   ]
  },
  {
   "cell_type": "code",
   "execution_count": 174,
   "metadata": {},
   "outputs": [
    {
     "name": "stdout",
     "output_type": "stream",
     "text": [
      "0\n",
      "1\n",
      "2\n",
      "3\n",
      "4\n",
      "5\n"
     ]
    }
   ],
   "source": [
    "x = 0\n",
    "while x <= 5:\n",
    "  print(x)\n",
    "  x += 1"
   ]
  },
  {
   "cell_type": "code",
   "execution_count": 181,
   "metadata": {},
   "outputs": [
    {
     "name": "stdout",
     "output_type": "stream",
     "text": [
      "0\n",
      "1\n",
      "2\n"
     ]
    }
   ],
   "source": [
    "x = 0\n",
    "while x < 5:\n",
    "  print(x)\n",
    "  if x == 2:\n",
    "    break\n",
    "  x += 1"
   ]
  },
  {
   "cell_type": "code",
   "execution_count": 186,
   "metadata": {},
   "outputs": [
    {
     "name": "stdout",
     "output_type": "stream",
     "text": [
      "1\n",
      "3\n",
      "4\n",
      "5\n"
     ]
    }
   ],
   "source": [
    "x = 0\n",
    "while x < 5:\n",
    "  x += 1\n",
    "  if x == 2:\n",
    "    continue\n",
    "  print(x)"
   ]
  },
  {
   "cell_type": "code",
   "execution_count": 185,
   "metadata": {},
   "outputs": [
    {
     "name": "stdout",
     "output_type": "stream",
     "text": [
      "1\n",
      "2\n",
      "3\n",
      "4\n",
      "While loop ended as x is more than 5\n"
     ]
    }
   ],
   "source": [
    "x = 1\n",
    "while x < 5:\n",
    "  print(x)\n",
    "  x += 1\n",
    "else:\n",
    "  print(\"While loop ended as x is more than 5\")"
   ]
  },
  {
   "cell_type": "code",
   "execution_count": 198,
   "metadata": {},
   "outputs": [
    {
     "name": "stdout",
     "output_type": "stream",
     "text": [
      "2\n",
      "Loop has ended\n"
     ]
    }
   ],
   "source": [
    "i = 0\n",
    "while i < 5:\n",
    "    i += 1\n",
    "    if i == 3:\n",
    "        break\n",
    "\n",
    "    if i % 2 == 1:\n",
    "        continue\n",
    "\n",
    "    print(i)\n",
    "    \n",
    "while i < 5:\n",
    "    i += 1\n",
    "else:\n",
    "    print(\"Loop has ended\")"
   ]
  },
  {
   "cell_type": "code",
   "execution_count": 201,
   "metadata": {},
   "outputs": [
    {
     "name": "stdout",
     "output_type": "stream",
     "text": [
      "tom\n",
      "and\n",
      "jerry\n"
     ]
    }
   ],
   "source": [
    "names = [\"tom\", \"and\", \"jerry\"]\n",
    "for x in names:\n",
    "  print(x)"
   ]
  },
  {
   "cell_type": "code",
   "execution_count": 203,
   "metadata": {},
   "outputs": [
    {
     "name": "stdout",
     "output_type": "stream",
     "text": [
      "p\n",
      "y\n",
      "t\n",
      "h\n",
      "o\n",
      "n\n"
     ]
    }
   ],
   "source": [
    "for x in \"python\":\n",
    "  print(x)"
   ]
  },
  {
   "cell_type": "code",
   "execution_count": 217,
   "metadata": {},
   "outputs": [
    {
     "name": "stdout",
     "output_type": "stream",
     "text": [
      "W\n",
      "e\n",
      "The loop ended when it reached the letter l\n"
     ]
    }
   ],
   "source": [
    "for x in 'WelcometoPython': \n",
    " \n",
    "    # break the loop as soon it sees 'l' \n",
    "    if x == 'l':\n",
    "         break\n",
    "    print(x)\n",
    " \n",
    "print('The loop ended when it reached the letter', x)"
   ]
  },
  {
   "cell_type": "code",
   "execution_count": 210,
   "metadata": {},
   "outputs": [
    {
     "name": "stdout",
     "output_type": "stream",
     "text": [
      "tom\n",
      "jerry\n"
     ]
    }
   ],
   "source": [
    "names = [\"tom\", \"and\", \"jerry\"]\n",
    "for x in names:\n",
    "  if x == \"and\":\n",
    "    continue\n",
    "  print(x)"
   ]
  },
  {
   "cell_type": "code",
   "execution_count": 212,
   "metadata": {},
   "outputs": [
    {
     "name": "stdout",
     "output_type": "stream",
     "text": [
      "0\n",
      "1\n",
      "2\n",
      "3\n",
      "4\n",
      "The loop as ended!\n"
     ]
    }
   ],
   "source": [
    "for x in range(5):\n",
    "  print(x)\n",
    "else:\n",
    "  print(\"The loop as ended!\")"
   ]
  },
  {
   "cell_type": "code",
   "execution_count": 214,
   "metadata": {},
   "outputs": [
    {
     "name": "stdout",
     "output_type": "stream",
     "text": [
      "red car\n",
      "red ball\n",
      "red book\n",
      "blue car\n",
      "blue ball\n",
      "blue book\n",
      "yellow car\n",
      "yellow ball\n",
      "yellow book\n"
     ]
    }
   ],
   "source": [
    "color = [\"red\", \"blue\", \"yellow\"]\n",
    "names = [\"car\", \"ball\", \"book\"]\n",
    "\n",
    "for x in color:\n",
    "  for y in names:\n",
    "    print(x, y)"
   ]
  },
  {
   "cell_type": "code",
   "execution_count": 216,
   "metadata": {},
   "outputs": [],
   "source": [
    "for x in [1, 2, 3]:\n",
    "  pass"
   ]
  },
  {
   "cell_type": "code",
   "execution_count": 20,
   "metadata": {},
   "outputs": [
    {
     "name": "stdout",
     "output_type": "stream",
     "text": [
      "0 Looping\n",
      "1 Techniques\n",
      "2 In\n",
      "3 Python\n"
     ]
    }
   ],
   "source": [
    "# To demonstrate working of enumerate() \n",
    "  \n",
    "for key, value in enumerate(['Looping', 'Techniques', 'In', 'Python']): \n",
    "    print(key, value) "
   ]
  },
  {
   "cell_type": "code",
   "execution_count": 22,
   "metadata": {},
   "outputs": [
    {
     "name": "stdout",
     "output_type": "stream",
     "text": [
      "We love coding in Python "
     ]
    }
   ],
   "source": [
    "for key, value in enumerate(['We', 'love', 'coding', 'in', 'Python']): \n",
    "    print(value, end=' ') "
   ]
  },
  {
   "cell_type": "code",
   "execution_count": 26,
   "metadata": {},
   "outputs": [
    {
     "name": "stdout",
     "output_type": "stream",
     "text": [
      "Red\n",
      "Blue\n",
      "Green\n"
     ]
    }
   ],
   "source": [
    "# Accessing items using enumerate() \n",
    "  \n",
    "colors = [\"Red\" , \"Blue\", \"Green\"] \n",
    "for i, x in enumerate(colors): \n",
    "    print (x) "
   ]
  },
  {
   "cell_type": "code",
   "execution_count": 40,
   "metadata": {},
   "outputs": [
    {
     "name": "stdout",
     "output_type": "stream",
     "text": [
      "What is your name?  I am apple.\n",
      "What is your colour?  I am red.\n",
      "What is your type?  I am a fruit.\n"
     ]
    }
   ],
   "source": [
    "# initializing the lists\n",
    "my_list = ['name', 'colour', 'type'] \n",
    "about_me = ['apple', 'red', 'a fruit'] \n",
    "  \n",
    "# using zip() to combine two containers  \n",
    "for i, x in zip(my_list, about_me): \n",
    "    print('What is your {0}?  I am {1}.'.format(i, x)) \n"
   ]
  },
  {
   "cell_type": "code",
   "execution_count": 47,
   "metadata": {},
   "outputs": [
    {
     "name": "stdout",
     "output_type": "stream",
     "text": [
      "(('Scooby', 'Doo'), ('Tom', 'Jerry'))\n"
     ]
    }
   ],
   "source": [
    "a = (\"Scooby\", \"Tom\",\"Python\")\n",
    "b = (\"Doo\", \"Jerry\")\n",
    "\n",
    "x = zip(a, b)\n",
    "print(tuple(x))"
   ]
  },
  {
   "cell_type": "code",
   "execution_count": 56,
   "metadata": {},
   "outputs": [
    {
     "name": "stdout",
     "output_type": "stream",
     "text": [
      "('Scooby', 'Tom')\n",
      "('Doo', 'Jerry')\n"
     ]
    }
   ],
   "source": [
    "# Unzip lists \n",
    "a,b = zip(*[('Scooby', 'Doo'),  \n",
    "              ('Tom', 'Jerry')]) \n",
    "  \n",
    "# Printing unzipped lists       \n",
    "print(a) \n",
    "print(b)"
   ]
  },
  {
   "cell_type": "code",
   "execution_count": null,
   "metadata": {},
   "outputs": [],
   "source": []
  }
 ],
 "metadata": {
  "kernelspec": {
   "display_name": "learn-env",
   "language": "python",
   "name": "learn-env"
  },
  "language_info": {
   "codemirror_mode": {
    "name": "ipython",
    "version": 3
   },
   "file_extension": ".py",
   "mimetype": "text/x-python",
   "name": "python",
   "nbconvert_exporter": "python",
   "pygments_lexer": "ipython3",
   "version": "3.6.10"
  },
  "toc": {
   "base_numbering": 1,
   "nav_menu": {},
   "number_sections": true,
   "sideBar": true,
   "skip_h1_title": false,
   "title_cell": "Table of Contents",
   "title_sidebar": "Contents",
   "toc_cell": true,
   "toc_position": {},
   "toc_section_display": true,
   "toc_window_display": false
  },
  "varInspector": {
   "cols": {
    "lenName": 16,
    "lenType": 16,
    "lenVar": 40
   },
   "kernels_config": {
    "python": {
     "delete_cmd_postfix": "",
     "delete_cmd_prefix": "del ",
     "library": "var_list.py",
     "varRefreshCmd": "print(var_dic_list())"
    },
    "r": {
     "delete_cmd_postfix": ") ",
     "delete_cmd_prefix": "rm(",
     "library": "var_list.r",
     "varRefreshCmd": "cat(var_dic_list()) "
    }
   },
   "types_to_exclude": [
    "module",
    "function",
    "builtin_function_or_method",
    "instance",
    "_Feature"
   ],
   "window_display": false
  }
 },
 "nbformat": 4,
 "nbformat_minor": 4
}
